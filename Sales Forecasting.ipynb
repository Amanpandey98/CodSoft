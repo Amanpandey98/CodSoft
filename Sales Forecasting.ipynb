{
 "cells": [
  {
   "cell_type": "markdown",
   "id": "3e4ac279",
   "metadata": {},
   "source": [
    "### Aman Pandey\n",
    "## Domain : Data Science\n",
    "## Task2- SALES PREDICTION USING PYTHON"
   ]
  },
  {
   "cell_type": "code",
   "execution_count": 1,
   "id": "0c6d6ff3",
   "metadata": {},
   "outputs": [],
   "source": [
    "import pandas as pd\n",
    "import numpy as np\n",
    "import matplotlib.pyplot as plt\n",
    "import seaborn as sns\n"
   ]
  },
  {
   "cell_type": "code",
   "execution_count": 2,
   "id": "825c36cd",
   "metadata": {},
   "outputs": [],
   "source": [
    "df=pd.read_csv('advertising.csv')"
   ]
  },
  {
   "cell_type": "code",
   "execution_count": 4,
   "id": "e336636e",
   "metadata": {},
   "outputs": [
    {
     "data": {
      "text/html": [
       "<div>\n",
       "<style scoped>\n",
       "    .dataframe tbody tr th:only-of-type {\n",
       "        vertical-align: middle;\n",
       "    }\n",
       "\n",
       "    .dataframe tbody tr th {\n",
       "        vertical-align: top;\n",
       "    }\n",
       "\n",
       "    .dataframe thead th {\n",
       "        text-align: right;\n",
       "    }\n",
       "</style>\n",
       "<table border=\"1\" class=\"dataframe\">\n",
       "  <thead>\n",
       "    <tr style=\"text-align: right;\">\n",
       "      <th></th>\n",
       "      <th>TV</th>\n",
       "      <th>Radio</th>\n",
       "      <th>Newspaper</th>\n",
       "      <th>Sales</th>\n",
       "    </tr>\n",
       "  </thead>\n",
       "  <tbody>\n",
       "    <tr>\n",
       "      <th>0</th>\n",
       "      <td>230.1</td>\n",
       "      <td>37.8</td>\n",
       "      <td>69.2</td>\n",
       "      <td>22.1</td>\n",
       "    </tr>\n",
       "    <tr>\n",
       "      <th>1</th>\n",
       "      <td>44.5</td>\n",
       "      <td>39.3</td>\n",
       "      <td>45.1</td>\n",
       "      <td>10.4</td>\n",
       "    </tr>\n",
       "    <tr>\n",
       "      <th>2</th>\n",
       "      <td>17.2</td>\n",
       "      <td>45.9</td>\n",
       "      <td>69.3</td>\n",
       "      <td>12.0</td>\n",
       "    </tr>\n",
       "    <tr>\n",
       "      <th>3</th>\n",
       "      <td>151.5</td>\n",
       "      <td>41.3</td>\n",
       "      <td>58.5</td>\n",
       "      <td>16.5</td>\n",
       "    </tr>\n",
       "    <tr>\n",
       "      <th>4</th>\n",
       "      <td>180.8</td>\n",
       "      <td>10.8</td>\n",
       "      <td>58.4</td>\n",
       "      <td>17.9</td>\n",
       "    </tr>\n",
       "    <tr>\n",
       "      <th>5</th>\n",
       "      <td>8.7</td>\n",
       "      <td>48.9</td>\n",
       "      <td>75.0</td>\n",
       "      <td>7.2</td>\n",
       "    </tr>\n",
       "    <tr>\n",
       "      <th>6</th>\n",
       "      <td>57.5</td>\n",
       "      <td>32.8</td>\n",
       "      <td>23.5</td>\n",
       "      <td>11.8</td>\n",
       "    </tr>\n",
       "    <tr>\n",
       "      <th>7</th>\n",
       "      <td>120.2</td>\n",
       "      <td>19.6</td>\n",
       "      <td>11.6</td>\n",
       "      <td>13.2</td>\n",
       "    </tr>\n",
       "    <tr>\n",
       "      <th>8</th>\n",
       "      <td>8.6</td>\n",
       "      <td>2.1</td>\n",
       "      <td>1.0</td>\n",
       "      <td>4.8</td>\n",
       "    </tr>\n",
       "    <tr>\n",
       "      <th>9</th>\n",
       "      <td>199.8</td>\n",
       "      <td>2.6</td>\n",
       "      <td>21.2</td>\n",
       "      <td>15.6</td>\n",
       "    </tr>\n",
       "  </tbody>\n",
       "</table>\n",
       "</div>"
      ],
      "text/plain": [
       "      TV  Radio  Newspaper  Sales\n",
       "0  230.1   37.8       69.2   22.1\n",
       "1   44.5   39.3       45.1   10.4\n",
       "2   17.2   45.9       69.3   12.0\n",
       "3  151.5   41.3       58.5   16.5\n",
       "4  180.8   10.8       58.4   17.9\n",
       "5    8.7   48.9       75.0    7.2\n",
       "6   57.5   32.8       23.5   11.8\n",
       "7  120.2   19.6       11.6   13.2\n",
       "8    8.6    2.1        1.0    4.8\n",
       "9  199.8    2.6       21.2   15.6"
      ]
     },
     "execution_count": 4,
     "metadata": {},
     "output_type": "execute_result"
    }
   ],
   "source": [
    "df.head(10)"
   ]
  },
  {
   "cell_type": "code",
   "execution_count": 6,
   "id": "60cd8fde",
   "metadata": {},
   "outputs": [
    {
     "data": {
      "text/plain": [
       "(200, 4)"
      ]
     },
     "execution_count": 6,
     "metadata": {},
     "output_type": "execute_result"
    }
   ],
   "source": [
    "df.shape"
   ]
  },
  {
   "cell_type": "code",
   "execution_count": 7,
   "id": "fffc01b1",
   "metadata": {},
   "outputs": [
    {
     "name": "stdout",
     "output_type": "stream",
     "text": [
      "<class 'pandas.core.frame.DataFrame'>\n",
      "RangeIndex: 200 entries, 0 to 199\n",
      "Data columns (total 4 columns):\n",
      " #   Column     Non-Null Count  Dtype  \n",
      "---  ------     --------------  -----  \n",
      " 0   TV         200 non-null    float64\n",
      " 1   Radio      200 non-null    float64\n",
      " 2   Newspaper  200 non-null    float64\n",
      " 3   Sales      200 non-null    float64\n",
      "dtypes: float64(4)\n",
      "memory usage: 6.4 KB\n"
     ]
    }
   ],
   "source": [
    "df.info()"
   ]
  },
  {
   "cell_type": "code",
   "execution_count": 8,
   "id": "728ee25d",
   "metadata": {},
   "outputs": [
    {
     "data": {
      "text/plain": [
       "TV           0\n",
       "Radio        0\n",
       "Newspaper    0\n",
       "Sales        0\n",
       "dtype: int64"
      ]
     },
     "execution_count": 8,
     "metadata": {},
     "output_type": "execute_result"
    }
   ],
   "source": [
    "df.isnull().sum()"
   ]
  },
  {
   "cell_type": "code",
   "execution_count": 9,
   "id": "99a8437b",
   "metadata": {},
   "outputs": [
    {
     "data": {
      "text/plain": [
       "0"
      ]
     },
     "execution_count": 9,
     "metadata": {},
     "output_type": "execute_result"
    }
   ],
   "source": [
    "df.duplicated().sum()"
   ]
  },
  {
   "cell_type": "code",
   "execution_count": 10,
   "id": "c4d29079",
   "metadata": {},
   "outputs": [
    {
     "data": {
      "text/html": [
       "<div>\n",
       "<style scoped>\n",
       "    .dataframe tbody tr th:only-of-type {\n",
       "        vertical-align: middle;\n",
       "    }\n",
       "\n",
       "    .dataframe tbody tr th {\n",
       "        vertical-align: top;\n",
       "    }\n",
       "\n",
       "    .dataframe thead th {\n",
       "        text-align: right;\n",
       "    }\n",
       "</style>\n",
       "<table border=\"1\" class=\"dataframe\">\n",
       "  <thead>\n",
       "    <tr style=\"text-align: right;\">\n",
       "      <th></th>\n",
       "      <th>TV</th>\n",
       "      <th>Radio</th>\n",
       "      <th>Newspaper</th>\n",
       "      <th>Sales</th>\n",
       "    </tr>\n",
       "  </thead>\n",
       "  <tbody>\n",
       "    <tr>\n",
       "      <th>count</th>\n",
       "      <td>200.000000</td>\n",
       "      <td>200.000000</td>\n",
       "      <td>200.000000</td>\n",
       "      <td>200.000000</td>\n",
       "    </tr>\n",
       "    <tr>\n",
       "      <th>mean</th>\n",
       "      <td>147.042500</td>\n",
       "      <td>23.264000</td>\n",
       "      <td>30.554000</td>\n",
       "      <td>15.130500</td>\n",
       "    </tr>\n",
       "    <tr>\n",
       "      <th>std</th>\n",
       "      <td>85.854236</td>\n",
       "      <td>14.846809</td>\n",
       "      <td>21.778621</td>\n",
       "      <td>5.283892</td>\n",
       "    </tr>\n",
       "    <tr>\n",
       "      <th>min</th>\n",
       "      <td>0.700000</td>\n",
       "      <td>0.000000</td>\n",
       "      <td>0.300000</td>\n",
       "      <td>1.600000</td>\n",
       "    </tr>\n",
       "    <tr>\n",
       "      <th>25%</th>\n",
       "      <td>74.375000</td>\n",
       "      <td>9.975000</td>\n",
       "      <td>12.750000</td>\n",
       "      <td>11.000000</td>\n",
       "    </tr>\n",
       "    <tr>\n",
       "      <th>50%</th>\n",
       "      <td>149.750000</td>\n",
       "      <td>22.900000</td>\n",
       "      <td>25.750000</td>\n",
       "      <td>16.000000</td>\n",
       "    </tr>\n",
       "    <tr>\n",
       "      <th>75%</th>\n",
       "      <td>218.825000</td>\n",
       "      <td>36.525000</td>\n",
       "      <td>45.100000</td>\n",
       "      <td>19.050000</td>\n",
       "    </tr>\n",
       "    <tr>\n",
       "      <th>max</th>\n",
       "      <td>296.400000</td>\n",
       "      <td>49.600000</td>\n",
       "      <td>114.000000</td>\n",
       "      <td>27.000000</td>\n",
       "    </tr>\n",
       "  </tbody>\n",
       "</table>\n",
       "</div>"
      ],
      "text/plain": [
       "               TV       Radio   Newspaper       Sales\n",
       "count  200.000000  200.000000  200.000000  200.000000\n",
       "mean   147.042500   23.264000   30.554000   15.130500\n",
       "std     85.854236   14.846809   21.778621    5.283892\n",
       "min      0.700000    0.000000    0.300000    1.600000\n",
       "25%     74.375000    9.975000   12.750000   11.000000\n",
       "50%    149.750000   22.900000   25.750000   16.000000\n",
       "75%    218.825000   36.525000   45.100000   19.050000\n",
       "max    296.400000   49.600000  114.000000   27.000000"
      ]
     },
     "execution_count": 10,
     "metadata": {},
     "output_type": "execute_result"
    }
   ],
   "source": [
    "df.describe()"
   ]
  },
  {
   "cell_type": "code",
   "execution_count": 19,
   "id": "b8521605",
   "metadata": {},
   "outputs": [],
   "source": [
    "X=df.iloc[:,:-1]\n",
    "y=df.iloc[:,-1]"
   ]
  },
  {
   "cell_type": "code",
   "execution_count": 20,
   "id": "e70b3bb2",
   "metadata": {},
   "outputs": [
    {
     "data": {
      "text/plain": [
       "0    22.1\n",
       "1    10.4\n",
       "2    12.0\n",
       "3    16.5\n",
       "4    17.9\n",
       "Name: Sales, dtype: float64"
      ]
     },
     "execution_count": 20,
     "metadata": {},
     "output_type": "execute_result"
    }
   ],
   "source": [
    "y.head()"
   ]
  },
  {
   "cell_type": "code",
   "execution_count": 25,
   "id": "e6716af9",
   "metadata": {},
   "outputs": [],
   "source": [
    "from sklearn.model_selection import train_test_split"
   ]
  },
  {
   "cell_type": "code",
   "execution_count": 27,
   "id": "2570c47e",
   "metadata": {},
   "outputs": [],
   "source": [
    "X_train,X_test,y_train,y_test=train_test_split(X,y,random_state=42,test_size=0.3)"
   ]
  },
  {
   "cell_type": "code",
   "execution_count": 28,
   "id": "6b5b4ca5",
   "metadata": {},
   "outputs": [
    {
     "data": {
      "text/html": [
       "<div>\n",
       "<style scoped>\n",
       "    .dataframe tbody tr th:only-of-type {\n",
       "        vertical-align: middle;\n",
       "    }\n",
       "\n",
       "    .dataframe tbody tr th {\n",
       "        vertical-align: top;\n",
       "    }\n",
       "\n",
       "    .dataframe thead th {\n",
       "        text-align: right;\n",
       "    }\n",
       "</style>\n",
       "<table border=\"1\" class=\"dataframe\">\n",
       "  <thead>\n",
       "    <tr style=\"text-align: right;\">\n",
       "      <th></th>\n",
       "      <th>TV</th>\n",
       "      <th>Radio</th>\n",
       "      <th>Newspaper</th>\n",
       "    </tr>\n",
       "  </thead>\n",
       "  <tbody>\n",
       "    <tr>\n",
       "      <th>169</th>\n",
       "      <td>284.3</td>\n",
       "      <td>10.6</td>\n",
       "      <td>6.4</td>\n",
       "    </tr>\n",
       "    <tr>\n",
       "      <th>97</th>\n",
       "      <td>184.9</td>\n",
       "      <td>21.0</td>\n",
       "      <td>22.0</td>\n",
       "    </tr>\n",
       "    <tr>\n",
       "      <th>31</th>\n",
       "      <td>112.9</td>\n",
       "      <td>17.4</td>\n",
       "      <td>38.6</td>\n",
       "    </tr>\n",
       "    <tr>\n",
       "      <th>12</th>\n",
       "      <td>23.8</td>\n",
       "      <td>35.1</td>\n",
       "      <td>65.9</td>\n",
       "    </tr>\n",
       "    <tr>\n",
       "      <th>35</th>\n",
       "      <td>290.7</td>\n",
       "      <td>4.1</td>\n",
       "      <td>8.5</td>\n",
       "    </tr>\n",
       "  </tbody>\n",
       "</table>\n",
       "</div>"
      ],
      "text/plain": [
       "        TV  Radio  Newspaper\n",
       "169  284.3   10.6        6.4\n",
       "97   184.9   21.0       22.0\n",
       "31   112.9   17.4       38.6\n",
       "12    23.8   35.1       65.9\n",
       "35   290.7    4.1        8.5"
      ]
     },
     "execution_count": 28,
     "metadata": {},
     "output_type": "execute_result"
    }
   ],
   "source": [
    "X_train.head()"
   ]
  },
  {
   "cell_type": "code",
   "execution_count": 30,
   "id": "754cf9c3",
   "metadata": {},
   "outputs": [
    {
     "data": {
      "text/plain": [
       "169    20.0\n",
       "97     20.5\n",
       "31     11.9\n",
       "12      9.2\n",
       "35     17.8\n",
       "Name: Sales, dtype: float64"
      ]
     },
     "execution_count": 30,
     "metadata": {},
     "output_type": "execute_result"
    }
   ],
   "source": [
    "y_train.head()"
   ]
  },
  {
   "cell_type": "code",
   "execution_count": 39,
   "id": "2b1b9d09",
   "metadata": {},
   "outputs": [],
   "source": [
    "from sklearn.preprocessing import StandardScaler\n",
    "scaler=StandardScaler()\n",
    "X_train_scaled = scaler.fit_transform(X_train)\n",
    "X_test_scaled = scaler.transform(X_test)"
   ]
  },
  {
   "cell_type": "code",
   "execution_count": 43,
   "id": "6d18003b",
   "metadata": {},
   "outputs": [
    {
     "data": {
      "text/plain": [
       "array([[ 1.53003874e+00, -8.86292904e-01, -1.16598019e+00],\n",
       "       [ 3.41038651e-01, -1.73144262e-01, -4.09601321e-01],\n",
       "       [-5.20208901e-01, -4.20003407e-01,  3.95263370e-01],\n",
       "       [-1.58600275e+00,  7.93720724e-01,  1.71892638e+00],\n",
       "       [ 1.60659408e+00, -1.33201081e+00, -1.06415995e+00],\n",
       "       [-1.63863454e+00, -5.16004186e-01, -3.95055573e-01],\n",
       "       [ 1.64128322e+00,  2.86288037e-01, -1.38901498e+00],\n",
       "       [-1.64700778e+00, -7.83434927e-01, -3.41721166e-01],\n",
       "       [-2.64226989e-01, -1.27715322e+00, -1.02537129e+00],\n",
       "       [-1.56447156e+00,  1.06115147e+00, -1.02537129e+00],\n",
       "       [-6.69731045e-01, -9.54864889e-01, -1.30174050e+00],\n",
       "       [-9.11358830e-01, -1.61315594e+00, -1.03021988e+00],\n",
       "       [ 3.82904851e-01, -3.72003018e-01, -2.35052352e-01],\n",
       "       [ 2.46540656e-01,  6.77148350e-01,  4.00111952e-01],\n",
       "       [-3.67098225e-01,  9.17150297e-01,  2.36378785e+00],\n",
       "       [ 6.36494408e-01, -2.00573056e-01, -9.57491140e-01],\n",
       "       [-1.61355754e-01,  3.96003212e-01, -8.65368073e-01],\n",
       "       [ 3.41038651e-01,  1.39715419e+00, -1.39386356e+00],\n",
       "       [ 7.89605084e-01, -1.31829641e+00,  9.38304606e-01],\n",
       "       [ 1.02046727e+00,  9.92579480e-01, -3.51418331e-01],\n",
       "       [-1.66495044e+00,  1.53429816e+00,  1.88377819e+00],\n",
       "       [-4.29299437e-01,  3.41145625e-01, -7.87790753e-01],\n",
       "       [-7.97722000e-01, -9.34293293e-01,  2.54654478e-01],\n",
       "       [ 4.15201635e-01,  3.54860021e-01, -5.93847454e-01],\n",
       "       [-9.67579156e-01, -8.72578507e-01, -1.18537452e+00],\n",
       "       [ 4.40321355e-01, -3.51431422e-01,  1.70922922e+00],\n",
       "       [-8.45569087e-01,  8.41721114e-01,  9.14061694e-01],\n",
       "       [ 1.32190392e+00,  1.39029699e+00, -1.23386034e+00],\n",
       "       [-1.39820293e+00,  1.20515263e+00, -1.19507168e+00],\n",
       "       [ 1.25491800e+00,  1.31486781e+00,  1.17588515e+00],\n",
       "       [-1.71279752e+00, -5.22861384e-01,  9.28607441e-01],\n",
       "       [ 4.46302241e-01,  8.14292320e-01,  2.18923888e+00],\n",
       "       [ 1.67477618e+00,  8.76007106e-01,  3.41593025e+00],\n",
       "       [ 1.30635361e+00, -2.41716247e-01, -1.46174372e+00],\n",
       "       [ 6.97499443e-01,  3.25716928e-02, -1.28234617e+00],\n",
       "       [-8.00157075e-02,  8.28006717e-01, -1.18537452e+00],\n",
       "       [-2.95327595e-01, -3.51431422e-01,  2.01320071e-01],\n",
       "       [-1.18289104e+00,  6.36005159e-01, -3.36872584e-01],\n",
       "       [ 1.00132844e+00, -4.68003796e-01, -3.65964078e-01],\n",
       "       [-1.80494589e-01,  2.24573250e-01,  7.63755637e-01],\n",
       "       [ 2.91995388e-01, -8.72578507e-01,  1.35528270e+00],\n",
       "       [-7.08008714e-01, -1.51029797e+00, -2.17147229e-02],\n",
       "       [ 7.66877718e-01,  6.63433953e-01,  3.61323292e-01],\n",
       "       [-1.92456360e-01, -1.48286917e+00, -1.03991704e+00],\n",
       "       [ 1.18434355e+00,  2.31430449e-01, -1.20961743e+00],\n",
       "       [-7.19970485e-01, -5.98290568e-01,  4.09809117e-01],\n",
       "       [-1.08001981e+00, -1.21543843e+00, -3.02932506e-01],\n",
       "       [ 9.91759023e-01, -5.50290178e-01, -1.52626450e-01],\n",
       "       [ 2.30990353e-01, -5.57147377e-01, -1.35992348e+00],\n",
       "       [ 1.00132844e+00, -1.11258045e+00, -1.05446279e+00],\n",
       "       [-1.65657720e+00,  9.65150686e-01, -4.28995650e-01],\n",
       "       [ 8.81710725e-01,  9.78865083e-01,  1.87892961e+00],\n",
       "       [ 1.52166550e+00,  1.26686742e+00,  1.73347213e+00],\n",
       "       [ 1.78358558e-01,  1.10915185e+00,  3.51626127e-01],\n",
       "       [ 5.10895807e-01,  4.85146793e-01,  4.00111952e-01],\n",
       "       [-3.98198831e-01,  7.59434732e-01, -8.75065238e-01],\n",
       "       [-3.02504658e-01,  1.32172501e+00, -7.50491301e-02],\n",
       "       [-1.57045244e+00,  1.49144067e-01,  6.23146746e-01],\n",
       "       [ 8.50567398e-02,  9.10293099e-01, -1.11749436e+00],\n",
       "       [ 1.10539585e+00,  2.45144846e-01, -3.65964078e-01],\n",
       "       [ 5.51565830e-01, -8.40006814e-02,  5.58625966e-02],\n",
       "       [-1.71399370e+00, -1.58572715e+00, -2.35052352e-01],\n",
       "       [-1.82164964e+00, -8.17720919e-01, -1.19992026e+00],\n",
       "       [-7.47482560e-01,  1.36972540e+00,  9.72244684e-01],\n",
       "       [ 1.27405683e+00, -1.37315400e+00, -5.30815882e-01],\n",
       "       [ 8.60179536e-01, -4.54289399e-01, -2.05960857e-01],\n",
       "       [ 1.16520471e+00, -1.52572666e-01, -2.17147229e-02],\n",
       "       [ 1.03840993e+00,  1.74687131e+00,  6.71632570e-01],\n",
       "       [ 9.97739909e-01, -1.33201081e+00,  3.12837468e-01],\n",
       "       [ 8.56591005e-01,  9.72007885e-01,  7.52569265e-02],\n",
       "       [ 7.05872683e-01,  5.14289886e-03,  1.31649404e+00],\n",
       "       [ 9.98936086e-01,  1.23258143e+00, -5.79301707e-01],\n",
       "       [-5.85998644e-01, -6.53148155e-01, -9.47793975e-01],\n",
       "       [ 3.75727788e-01, -1.66287063e-01, -1.01567413e+00],\n",
       "       [ 6.04197625e-01, -1.03715127e+00, -1.96263692e-01],\n",
       "       [-1.35633673e+00,  1.62858464e-01, -4.82330058e-01],\n",
       "       [-5.84845187e-02,  1.21886703e+00,  1.36013128e+00],\n",
       "       [-2.21164612e-01,  1.56858415e+00,  1.38437419e+00],\n",
       "       [ 3.13526576e-01,  1.55486976e+00,  1.36982845e+00],\n",
       "       [ 7.58504478e-01,  6.84005549e-01,  7.10421230e-01],\n",
       "       [ 2.52051615e-03, -1.43486878e+00, -1.07385712e+00],\n",
       "       [ 1.43912928e+00, -1.45544038e+00, -3.27175419e-01],\n",
       "       [ 5.81470259e-01,  1.47944057e+00, -5.25967300e-01],\n",
       "       [-1.07045039e+00, -8.10863721e-01,  3.07988885e-01],\n",
       "       [-9.56813562e-01,  2.17716052e-01, -3.95055573e-01],\n",
       "       [-7.25951371e-01, -1.51715516e+00, -1.11749436e+00],\n",
       "       [-4.32887968e-01, -2.69145040e-01, -9.13853898e-01],\n",
       "       [ 8.30275107e-01, -1.05086567e+00,  1.26315963e+00],\n",
       "       [-1.52858624e+00, -1.51029797e+00,  1.23742751e-01],\n",
       "       [-1.05250773e+00,  1.43829738e+00,  2.49805895e-01],\n",
       "       [ 1.10061114e+00,  4.57717999e-01, -4.92027223e-01],\n",
       "       [ 7.42954175e-01, -1.24286722e+00, -1.47777867e-01],\n",
       "       [-5.57290392e-01,  1.66458493e+00,  1.01588193e+00],\n",
       "       [-1.76782167e+00, -1.46915477e+00, -1.42780364e+00],\n",
       "       [-7.04420182e-01, -1.09200886e+00, -1.12719153e+00],\n",
       "       [ 6.49652357e-01,  4.09717609e-01, -1.02537129e+00],\n",
       "       [ 9.70185114e-02, -1.80001460e-01,  8.21938627e-01],\n",
       "       [ 1.30156891e+00, -1.41429719e+00,  6.08600998e-01],\n",
       "       [ 1.49534961e+00,  1.10229466e+00,  1.22921955e+00],\n",
       "       [-1.55011743e+00,  6.49719556e-01, -5.40513047e-01],\n",
       "       [ 1.44152163e+00,  1.74001411e+00,  5.50418009e-01],\n",
       "       [-1.42930354e+00,  1.03372267e+00,  1.70438064e+00],\n",
       "       [ 6.03001448e-01, -1.25658162e+00, -5.35664465e-01],\n",
       "       [ 1.56951259e+00,  1.33543940e+00,  2.00499275e+00],\n",
       "       [-6.42218970e-01,  4.16574808e-01, -1.06900854e+00],\n",
       "       [ 1.27166448e+00,  3.61717220e-01, -7.05364851e-01],\n",
       "       [-7.89348760e-01, -1.59258435e+00, -3.51418331e-01],\n",
       "       [ 5.19269047e-01, -1.40058279e+00,  2.01320071e-01],\n",
       "       [-7.43894028e-01, -1.27715322e+00, -1.08355428e+00],\n",
       "       [ 6.50848534e-01,  1.78801450e+00,  3.51626127e-01],\n",
       "       [ 8.47021587e-01, -5.29718583e-01,  9.43153189e-01],\n",
       "       [-8.14468481e-01,  1.35429670e-01,  2.08257007e+00],\n",
       "       [ 9.69031657e-01, -1.26343882e+00, -3.36872584e-01],\n",
       "       [-2.41499623e-01, -2.96573834e-01, -6.71424774e-01],\n",
       "       [ 1.92712684e-01, -3.72003018e-01,  1.22253544e-02],\n",
       "       [-1.66495044e+00, -1.33201081e+00,  5.58625966e-02],\n",
       "       [-1.15777132e+00, -7.90292125e-01,  6.13449581e-01],\n",
       "       [-9.77148574e-01,  1.77430011e+00,  7.39512725e-01],\n",
       "       [-7.88195304e-02, -1.52401236e+00, -2.98083924e-01],\n",
       "       [ 1.24530586e-01,  1.26686742e+00, -1.30174050e+00],\n",
       "       [-1.33839407e+00,  1.08172306e+00,  7.10421230e-01],\n",
       "       [ 7.17834455e-01,  1.24629582e+00,  4.43749194e-01],\n",
       "       [-1.33600172e+00,  1.56001265e-01, -4.77481475e-01],\n",
       "       [-1.86231967e+00,  1.10229466e+00, -1.05446279e+00],\n",
       "       [-4.23318551e-01, -1.03715127e+00,  8.84970199e-01],\n",
       "       [ 3.76923966e-01, -4.33717804e-01, -6.08393202e-01],\n",
       "       [-2.53461395e-01,  1.24629582e+00,  7.49209890e-01],\n",
       "       [-2.05614309e-01, -6.32576560e-01, -2.35052352e-01],\n",
       "       [-5.46524798e-01,  1.17086664e+00,  1.58801466e+00],\n",
       "       [ 6.81949140e-01,  7.37148837e-02, -8.41125160e-01],\n",
       "       [-1.64581160e+00, -1.25143872e-01,  9.67396101e-01],\n",
       "       [ 9.05634268e-01, -1.02343687e+00, -1.05446279e+00],\n",
       "       [ 7.41757998e-01,  2.86288037e-01,  1.11285358e+00],\n",
       "       [ 1.55037375e+00, -6.60005354e-01, -1.29689191e+00],\n",
       "       [-5.57290392e-01, -6.32576560e-01,  6.07111791e-02],\n",
       "       [-1.57164862e+00, -8.58864110e-01, -3.62604703e-02],\n",
       "       [ 5.70704665e-01,  6.42862358e-01,  7.54058472e-01],\n",
       "       [ 7.33384758e-01,  6.84005549e-01,  1.38437419e+00],\n",
       "       [ 1.10176460e-01, -9.27436095e-01, -6.22938949e-01],\n",
       "       [ 1.48099548e+00, -9.20578896e-01, -4.38692815e-01]])"
      ]
     },
     "execution_count": 43,
     "metadata": {},
     "output_type": "execute_result"
    }
   ],
   "source": [
    "X_train_scaled"
   ]
  },
  {
   "cell_type": "code",
   "execution_count": 45,
   "id": "b57607ae",
   "metadata": {},
   "outputs": [],
   "source": [
    "from sklearn.linear_model import LinearRegression"
   ]
  },
  {
   "cell_type": "code",
   "execution_count": 46,
   "id": "62f0bbaf",
   "metadata": {},
   "outputs": [],
   "source": [
    "regressor=LinearRegression()"
   ]
  },
  {
   "cell_type": "code",
   "execution_count": 47,
   "id": "87870b7e",
   "metadata": {},
   "outputs": [
    {
     "data": {
      "text/plain": [
       "LinearRegression()"
      ]
     },
     "execution_count": 47,
     "metadata": {},
     "output_type": "execute_result"
    }
   ],
   "source": [
    "regressor.fit(X_train_scaled,y_train)"
   ]
  },
  {
   "cell_type": "code",
   "execution_count": 50,
   "id": "28852a20",
   "metadata": {},
   "outputs": [],
   "source": [
    "##prediction for test data\n",
    "y_pred_test=regressor.predict(X_test_scaled)\n"
   ]
  },
  {
   "cell_type": "code",
   "execution_count": 51,
   "id": "1e5e8214",
   "metadata": {},
   "outputs": [],
   "source": [
    "from sklearn.metrics import mean_squared_error,mean_absolute_error "
   ]
  },
  {
   "cell_type": "code",
   "execution_count": 52,
   "id": "9e7abfee",
   "metadata": {},
   "outputs": [],
   "source": [
    "mse=mean_squared_error(y_test,y_pred_test)\n",
    "mae=mean_absolute_error(y_test,y_pred_test)\n",
    "rmse=np.sqrt(mse)"
   ]
  },
  {
   "cell_type": "code",
   "execution_count": 54,
   "id": "529be265",
   "metadata": {},
   "outputs": [
    {
     "data": {
      "text/plain": [
       "(2.54162403622915, 1.1594875061090584, 1.5942471691143598)"
      ]
     },
     "execution_count": 54,
     "metadata": {},
     "output_type": "execute_result"
    }
   ],
   "source": [
    "mse,mae,rmse"
   ]
  },
  {
   "cell_type": "code",
   "execution_count": 53,
   "id": "ca9f0547",
   "metadata": {},
   "outputs": [
    {
     "data": {
      "text/plain": [
       "0.9091484341849798"
      ]
     },
     "execution_count": 53,
     "metadata": {},
     "output_type": "execute_result"
    }
   ],
   "source": [
    "##accuracy of model R squared and adjusted R squared\n",
    "from sklearn.metrics import r2_score\n",
    "score=r2_score(y_test,y_pred_test)\n",
    "score"
   ]
  },
  {
   "cell_type": "code",
   "execution_count": null,
   "id": "9f1e7576",
   "metadata": {},
   "outputs": [],
   "source": []
  }
 ],
 "metadata": {
  "kernelspec": {
   "display_name": "Python 3 (ipykernel)",
   "language": "python",
   "name": "python3"
  },
  "language_info": {
   "codemirror_mode": {
    "name": "ipython",
    "version": 3
   },
   "file_extension": ".py",
   "mimetype": "text/x-python",
   "name": "python",
   "nbconvert_exporter": "python",
   "pygments_lexer": "ipython3",
   "version": "3.9.13"
  }
 },
 "nbformat": 4,
 "nbformat_minor": 5
}
